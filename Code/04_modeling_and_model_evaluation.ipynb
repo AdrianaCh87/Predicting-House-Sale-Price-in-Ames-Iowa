{
 "cells": [
  {
   "cell_type": "markdown",
   "metadata": {},
   "source": [
    "# Predicting the Sale Price of a House in Ames, Iowa"
   ]
  },
  {
   "cell_type": "markdown",
   "metadata": {},
   "source": [
    "### Modeling and Model Evaluation"
   ]
  },
  {
   "cell_type": "markdown",
   "metadata": {},
   "source": [
    "Libraries and functions to use:"
   ]
  },
  {
   "cell_type": "code",
   "execution_count": 418,
   "metadata": {},
   "outputs": [],
   "source": [
    "import pandas as pd\n",
    "import numpy as np\n",
    "import matplotlib.pyplot as plt\n",
    "\n",
    "from sklearn.preprocessing import StandardScaler\n",
    "from sklearn.linear_model import LinearRegression, Ridge, Lasso, LassoCV \n",
    "from sklearn.metrics import r2_score, mean_squared_error\n",
    "from sklearn.model_selection import train_test_split, cross_val_score"
   ]
  },
  {
   "cell_type": "code",
   "execution_count": 419,
   "metadata": {},
   "outputs": [],
   "source": [
    "# Create a function to calculate the y-predictions and residuals for a given model\n",
    "\n",
    "def check_residual(model, x_test_data, y_test_data):\n",
    "    \n",
    "    # Check residuals for baseline model\n",
    "    if model== 'baseline':\n",
    "        y_prediction = x_test_data.mean()\n",
    "        y_predictions = []\n",
    "        for i in range(0,len(y_test_data)):\n",
    "            y_predictions.append(y_prediction)\n",
    "        residuals = y_test_data - y_predictions\n",
    "        \n",
    "    # Check residuals for other models\n",
    "    else:\n",
    "        y_predictions = model.predict(x_test_data)\n",
    "        residuals = y_test_data - y_predictions\n",
    "        \n",
    "    \n",
    "    return (y_predictions,residuals)"
   ]
  },
  {
   "cell_type": "code",
   "execution_count": 420,
   "metadata": {},
   "outputs": [],
   "source": [
    "# Create a function to calculate R2, MSE, RMSE\n",
    "\n",
    "def evaluate_model(model, X, y):\n",
    "    \n",
    "    # Evalute baseline model\n",
    "    if model == 'baseline':\n",
    "        # Convert y_baseline to an array to calculate baseline metrics\n",
    "        y_baseline = []\n",
    "        for i in range(0,len(y)):\n",
    "            y_baseline.append(X)\n",
    "            \n",
    "        print(f'Baseline: Avg Price = {X}')\n",
    "        print(f'R2 Score: {r2_score(y, y_baseline)}')\n",
    "        print(f'MSE: {mean_squared_error(y, y_baseline)}')\n",
    "        print(f'RMSE: {np.sqrt(mean_squared_error(y, y_baseline))}')\n",
    "        \n",
    "    else:\n",
    "    # Evaluate other models\n",
    "        print(f'R2 Score: {r2_score(y, model.predict(X))}')\n",
    "        print(f'MSE: {mean_squared_error(y, model.predict(X))}')\n",
    "        print(f'RMSE: {np.sqrt(mean_squared_error(y, model.predict(X)))}')"
   ]
  },
  {
   "cell_type": "code",
   "execution_count": 422,
   "metadata": {},
   "outputs": [],
   "source": [
    "# Load the data set for X train, X test, y train, y test in datasets folder\n",
    "df = pd.read_csv('./datasets/new_features_cleaned_train.csv')\n",
    "\n",
    "Xs_train = pd.read_csv('./datasets/X_train_transformed.csv')\n",
    "Xs_test = pd.read_csv('./datasets/X_test_transformed.csv')\n",
    "y_train = pd.read_csv('./datasets/y_train.csv')\n",
    "y_train = y_train['SalePrice']\n",
    "y_test = pd.read_csv('./datasets/y_test.csv')\n",
    "y_test = y_test['SalePrice']"
   ]
  },
  {
   "cell_type": "markdown",
   "metadata": {},
   "source": [
    "### Baseline model and residuals\n",
    "The average of Sale Price - y_train"
   ]
  },
  {
   "cell_type": "code",
   "execution_count": 423,
   "metadata": {},
   "outputs": [
    {
     "name": "stdout",
     "output_type": "stream",
     "text": [
      "The baseline model is y_hat = 181756.7279843444\n"
     ]
    }
   ],
   "source": [
    "avg_y = y_train.mean()\n",
    "print(f'The baseline model is y_hat = {avg_y}')"
   ]
  },
  {
   "cell_type": "markdown",
   "metadata": {},
   "source": [
    "Evaluate Baseline Model\n",
    "\n",
    "Check Residuals"
   ]
  },
  {
   "cell_type": "code",
   "execution_count": 424,
   "metadata": {},
   "outputs": [
    {
     "name": "stdout",
     "output_type": "stream",
     "text": [
      "Baseline: Avg Price = 181756.7279843444\n",
      "R2 Score: -0.0006702063442867168\n",
      "MSE: 6483655812.060305\n",
      "RMSE: 80521.15133342484\n"
     ]
    }
   ],
   "source": [
    "evaluate_model('baseline', avg_y, y_test)"
   ]
  },
  {
   "cell_type": "code",
   "execution_count": 425,
   "metadata": {},
   "outputs": [],
   "source": [
    "y_baseline_predictions, baseline_residuals = check_residual('baseline', y_train, y_test)"
   ]
  },
  {
   "cell_type": "code",
   "execution_count": 426,
   "metadata": {},
   "outputs": [
    {
     "data": {
      "image/png": "[encoded data removed]",
      "text/plain": [
       "<Figure size 432x288 with 1 Axes>"
      ]
     },
     "metadata": {
      "needs_background": "light"
     },
     "output_type": "display_data"
    }
   ],
   "source": [
    "baseline_residuals.hist();\n",
    "plt.title('Residuals histogram for Baseline model');"
   ]
  },
  {
   "cell_type": "code",
   "execution_count": 427,
   "metadata": {},
   "outputs": [
    {
     "data": {
      "image/png": "[encoded data removed]",
      "text/plain": [
       "<Figure size 432x288 with 1 Axes>"
      ]
     },
     "metadata": {
      "needs_background": "light"
     },
     "output_type": "display_data"
    }
   ],
   "source": [
    "plt.scatter(y_baseline_predictions, baseline_residuals);\n",
    "plt.title('Residuals scatterplot for Baseline model');"
   ]
  },
  {
   "cell_type": "markdown",
   "metadata": {},
   "source": [
    "### Linear Regression Model and Residuals"
   ]
  },
  {
   "cell_type": "code",
   "execution_count": 446,
   "metadata": {
    "scrolled": true
   },
   "outputs": [
    {
     "data": {
      "text/plain": [
       "LinearRegression()"
      ]
     },
     "execution_count": 446,
     "metadata": {},
     "output_type": "execute_result"
    }
   ],
   "source": [
    "# Linear Regression model\n",
    "lr = LinearRegression()\n",
    "lr.fit(Xs_train,y_train)"
   ]
  },
  {
   "cell_type": "code",
   "execution_count": 437,
   "metadata": {},
   "outputs": [
    {
     "data": {
      "text/plain": [
       "(0.8287398828088962, 0.830671672161254)"
      ]
     },
     "execution_count": 437,
     "metadata": {},
     "output_type": "execute_result"
    }
   ],
   "source": [
    "# Model Evaluation\n",
    "lr.score(Xs_train, y_train), lr.score(Xs_test, y_test)"
   ]
  },
  {
   "cell_type": "code",
   "execution_count": 438,
   "metadata": {},
   "outputs": [
    {
     "data": {
      "text/plain": [
       "0.8238043744352638"
      ]
     },
     "execution_count": 438,
     "metadata": {},
     "output_type": "execute_result"
    }
   ],
   "source": [
    "# Cross Validation\n",
    "cross_val_score(lr, Xs_train, y_train).mean()"
   ]
  },
  {
   "cell_type": "markdown",
   "metadata": {},
   "source": [
    "Evaluate Linear Regression Model\n",
    "\n",
    "Check Residuals"
   ]
  },
  {
   "cell_type": "code",
   "execution_count": 439,
   "metadata": {},
   "outputs": [
    {
     "name": "stdout",
     "output_type": "stream",
     "text": [
      "R2 Score: 0.830671672161254\n",
      "MSE: 1097131292.5853317\n",
      "RMSE: 33122.97227884798\n"
     ]
    }
   ],
   "source": [
    "evaluate_model(lr, Xs_test, y_test)"
   ]
  },
  {
   "cell_type": "code",
   "execution_count": 440,
   "metadata": {},
   "outputs": [],
   "source": [
    "y_predictions, residuals = check_residual(lr, Xs_test, y_test)"
   ]
  },
  {
   "cell_type": "code",
   "execution_count": 441,
   "metadata": {},
   "outputs": [
    {
     "data": {
      "image/png": "[encoded data removed]",
      "text/plain": [
       "<Figure size 432x288 with 1 Axes>"
      ]
     },
     "metadata": {
      "needs_background": "light"
     },
     "output_type": "display_data"
    }
   ],
   "source": [
    "residuals.hist();"
   ]
  },
  {
   "cell_type": "code",
   "execution_count": 442,
   "metadata": {},
   "outputs": [
    {
     "data": {
      "image/png": "[encoded data removed]",
      "text/plain": [
       "<Figure size 432x288 with 1 Axes>"
      ]
     },
     "metadata": {
      "needs_background": "light"
     },
     "output_type": "display_data"
    }
   ],
   "source": [
    "plt.scatter(y_predictions, residuals);"
   ]
  },
  {
   "cell_type": "markdown",
   "metadata": {},
   "source": [
    "The histogram and scatterplot for the Simple Regression Model shows that the model is missing predicting well the outliers"
   ]
  },
  {
   "cell_type": "markdown",
   "metadata": {},
   "source": [
    "The coefficients on the linear regression"
   ]
  },
  {
   "cell_type": "code",
   "execution_count": 448,
   "metadata": {
    "scrolled": true
   },
   "outputs": [
    {
     "data": {
      "text/html": [
       "<div>\n",
       "<style scoped>\n",
       "    .dataframe tbody tr th:only-of-type {\n",
       "        vertical-align: middle;\n",
       "    }\n",
       "\n",
       "    .dataframe tbody tr th {\n",
       "        vertical-align: top;\n",
       "    }\n",
       "\n",
       "    .dataframe thead th {\n",
       "        text-align: right;\n",
       "    }\n",
       "</style>\n",
       "<table border=\"1\" class=\"dataframe\">\n",
       "  <thead>\n",
       "    <tr style=\"text-align: right;\">\n",
       "      <th></th>\n",
       "      <th>coef val</th>\n",
       "    </tr>\n",
       "    <tr>\n",
       "      <th>Feature</th>\n",
       "      <th></th>\n",
       "    </tr>\n",
       "  </thead>\n",
       "  <tbody>\n",
       "    <tr>\n",
       "      <th>Full Bath</th>\n",
       "      <td>-5605.463689</td>\n",
       "    </tr>\n",
       "    <tr>\n",
       "      <th>Kitchen Qual_TA</th>\n",
       "      <td>-3578.513607</td>\n",
       "    </tr>\n",
       "    <tr>\n",
       "      <th>Garage Cars</th>\n",
       "      <td>-2970.569691</td>\n",
       "    </tr>\n",
       "    <tr>\n",
       "      <th>Exter Qual_TA</th>\n",
       "      <td>-2427.478052</td>\n",
       "    </tr>\n",
       "    <tr>\n",
       "      <th>TotRms AbvGrd</th>\n",
       "      <td>-1930.224863</td>\n",
       "    </tr>\n",
       "    <tr>\n",
       "      <th>Foundation_PConc</th>\n",
       "      <td>2454.487488</td>\n",
       "    </tr>\n",
       "    <tr>\n",
       "      <th>Year Built</th>\n",
       "      <td>8795.978128</td>\n",
       "    </tr>\n",
       "    <tr>\n",
       "      <th>Garage Area</th>\n",
       "      <td>13245.865239</td>\n",
       "    </tr>\n",
       "    <tr>\n",
       "      <th>Total Bsmt SF</th>\n",
       "      <td>17574.527982</td>\n",
       "    </tr>\n",
       "    <tr>\n",
       "      <th>Overall Qual</th>\n",
       "      <td>23008.543131</td>\n",
       "    </tr>\n",
       "    <tr>\n",
       "      <th>Gr Liv Area</th>\n",
       "      <td>30808.266903</td>\n",
       "    </tr>\n",
       "  </tbody>\n",
       "</table>\n",
       "</div>"
      ],
      "text/plain": [
       "                      coef val\n",
       "Feature                       \n",
       "Full Bath         -5605.463689\n",
       "Kitchen Qual_TA   -3578.513607\n",
       "Garage Cars       -2970.569691\n",
       "Exter Qual_TA     -2427.478052\n",
       "TotRms AbvGrd     -1930.224863\n",
       "Foundation_PConc   2454.487488\n",
       "Year Built         8795.978128\n",
       "Garage Area       13245.865239\n",
       "Total Bsmt SF     17574.527982\n",
       "Overall Qual      23008.543131\n",
       "Gr Liv Area       30808.266903"
      ]
     },
     "execution_count": 448,
     "metadata": {},
     "output_type": "execute_result"
    }
   ],
   "source": [
    "pd.DataFrame({\n",
    "    'Feature' : Xs_train.columns,\n",
    "    'coef val': lr.coef_    \n",
    "}).set_index('Feature').sort_values('coef val')"
   ]
  },
  {
   "cell_type": "markdown",
   "metadata": {},
   "source": [
    "Interpreting the coefficients : \n",
    "\n",
    "Holding all other features constant, for every 1 unit increase in 'Feature', we expect Sale Price to increase by 'coef val'. Example: Holding all other features constant, for every square feet increase in Ground Living area, we expect Sale Price to increase by $30,808.\n",
    "\n",
    "These coefficients are very large. Will do other regressions models to apply regularization and shrink these coefficients."
   ]
  },
  {
   "cell_type": "markdown",
   "metadata": {},
   "source": [
    "### Lasso CV Regression and Residuals"
   ]
  },
  {
   "cell_type": "code",
   "execution_count": 454,
   "metadata": {},
   "outputs": [],
   "source": [
    "# Set X and y\n",
    "X_lasso = df.drop(columns=['SalePrice'], axis=1)\n",
    "y_lasso = df['SalePrice']"
   ]
  },
  {
   "cell_type": "code",
   "execution_count": 460,
   "metadata": {},
   "outputs": [],
   "source": [
    "# Drop these features from Lasso Model since they have low correlation and/or are not present in test data\n",
    "lasso_drop_features = ['SalePrice','Misc Feature_TenC', 'Electrical_Mix', 'Heating QC_Po', \n",
    "                'Bsmt Cond_Fa', 'Garage Type_no_garage', 'Bsmt Cond_Po', 'Exterior 1st_CBlock', \n",
    "                'BsmtFin Type 1_no_bsmt', 'Exterior 1st_ImStucc', 'Neighborhood_Landmrk', \n",
    "                'Exterior 1st_Stone', 'Bsmt Qual_no_bsmt', 'Exterior 2nd_Stone', 'Misc Feature_none', \n",
    "                'MS Zoning_C (all)', 'Bsmt Cond_no_bsmt', 'Neighborhood_GrnHill', 'Alley_no_alley', \n",
    "                'House Age', 'Fence_no_fence', 'BsmtFin SF 1', 'Misc Feature_Gar2']\n",
    "\n",
    "X_lasso.drop(columns=['Misc Feature_TenC', 'Electrical_Mix', 'Heating QC_Po', \n",
    "                'Bsmt Cond_Fa', 'Garage Type_no_garage', 'Bsmt Cond_Po', 'Exterior 1st_CBlock', \n",
    "                'BsmtFin Type 1_no_bsmt', 'Exterior 1st_ImStucc', 'Neighborhood_Landmrk', \n",
    "                'Exterior 1st_Stone', 'Bsmt Qual_no_bsmt', 'Exterior 2nd_Stone', 'Misc Feature_none', \n",
    "                'MS Zoning_C (all)', 'Bsmt Cond_no_bsmt', 'Neighborhood_GrnHill', 'Alley_no_alley', \n",
    "                'House Age', 'Fence_no_fence'], inplace=True)"
   ]
  },
  {
   "cell_type": "code",
   "execution_count": 461,
   "metadata": {},
   "outputs": [],
   "source": [
    "# Perform a split of x and y\n",
    "XL_train, XL_test, yl_train, yl_test = train_test_split(X_lasso, y_lasso, random_state=42)\n",
    "\n",
    "# Scale and fit \n",
    "ss_lasso = StandardScaler()\n",
    "XLs_train = ss_lasso.fit_transform(XL_train)\n",
    "XLs_test = ss_lasso.transform(XL_test)\n"
   ]
  },
  {
   "cell_type": "code",
   "execution_count": 462,
   "metadata": {},
   "outputs": [
    {
     "data": {
      "text/plain": [
       "(0.9282936343609465, 0.9057760984914955)"
      ]
     },
     "execution_count": 462,
     "metadata": {},
     "output_type": "execute_result"
    }
   ],
   "source": [
    "# Set up a list of Lasso alphas to check.\n",
    "l_alphas = np.logspace(-3, 0, 100)\n",
    "\n",
    "# Cross-validate over list of Lasso alphas.\n",
    "lasso_cv = LassoCV(alphas=l_alphas, cv=5, max_iter=50000)\n",
    "\n",
    "# Fit model using best alpha\n",
    "lasso_cv.fit(XLs_train, yl_train);\n",
    "\n",
    "lasso_cv.score(XLs_train, yl_train), lasso_cv.score(XLs_test, yl_test)"
   ]
  },
  {
   "cell_type": "code",
   "execution_count": 463,
   "metadata": {},
   "outputs": [
    {
     "data": {
      "text/plain": [
       "0.8928544670229417"
      ]
     },
     "execution_count": 463,
     "metadata": {},
     "output_type": "execute_result"
    }
   ],
   "source": [
    "cross_val_score(lasso_cv, XLs_train, yl_train).mean()"
   ]
  },
  {
   "cell_type": "code",
   "execution_count": 464,
   "metadata": {},
   "outputs": [
    {
     "data": {
      "text/plain": [
       "1.0"
      ]
     },
     "execution_count": 464,
     "metadata": {},
     "output_type": "execute_result"
    }
   ],
   "source": [
    "lasso_cv.alpha_"
   ]
  },
  {
   "cell_type": "code",
   "execution_count": 465,
   "metadata": {},
   "outputs": [
    {
     "data": {
      "text/html": [
       "<div>\n",
       "<style scoped>\n",
       "    .dataframe tbody tr th:only-of-type {\n",
       "        vertical-align: middle;\n",
       "    }\n",
       "\n",
       "    .dataframe tbody tr th {\n",
       "        vertical-align: top;\n",
       "    }\n",
       "\n",
       "    .dataframe thead th {\n",
       "        text-align: right;\n",
       "    }\n",
       "</style>\n",
       "<table border=\"1\" class=\"dataframe\">\n",
       "  <thead>\n",
       "    <tr style=\"text-align: right;\">\n",
       "      <th></th>\n",
       "      <th>coef_value</th>\n",
       "    </tr>\n",
       "    <tr>\n",
       "      <th>Feature</th>\n",
       "      <th></th>\n",
       "    </tr>\n",
       "  </thead>\n",
       "  <tbody>\n",
       "    <tr>\n",
       "      <th>Gr Liv Area</th>\n",
       "      <td>24787.594384</td>\n",
       "    </tr>\n",
       "    <tr>\n",
       "      <th>Total Bsmt SF</th>\n",
       "      <td>13063.494144</td>\n",
       "    </tr>\n",
       "    <tr>\n",
       "      <th>Year Built</th>\n",
       "      <td>10223.491368</td>\n",
       "    </tr>\n",
       "    <tr>\n",
       "      <th>Overall Qual</th>\n",
       "      <td>9670.814568</td>\n",
       "    </tr>\n",
       "    <tr>\n",
       "      <th>Overall Cond</th>\n",
       "      <td>6936.311058</td>\n",
       "    </tr>\n",
       "    <tr>\n",
       "      <th>Lot Area</th>\n",
       "      <td>6878.549077</td>\n",
       "    </tr>\n",
       "    <tr>\n",
       "      <th>Garage Area</th>\n",
       "      <td>4838.349595</td>\n",
       "    </tr>\n",
       "    <tr>\n",
       "      <th>Sale Type_New</th>\n",
       "      <td>4712.115569</td>\n",
       "    </tr>\n",
       "    <tr>\n",
       "      <th>Land Contour_HLS</th>\n",
       "      <td>3880.909238</td>\n",
       "    </tr>\n",
       "    <tr>\n",
       "      <th>Exterior 1st_MetalSd</th>\n",
       "      <td>3685.119731</td>\n",
       "    </tr>\n",
       "    <tr>\n",
       "      <th>BsmtFin Type 1_GLQ</th>\n",
       "      <td>3657.412137</td>\n",
       "    </tr>\n",
       "    <tr>\n",
       "      <th>MS Zoning_RL</th>\n",
       "      <td>3523.964081</td>\n",
       "    </tr>\n",
       "    <tr>\n",
       "      <th>Screen Porch</th>\n",
       "      <td>3428.101183</td>\n",
       "    </tr>\n",
       "    <tr>\n",
       "      <th>MS Zoning_RM</th>\n",
       "      <td>3401.805194</td>\n",
       "    </tr>\n",
       "    <tr>\n",
       "      <th>Exterior 1st_VinylSd</th>\n",
       "      <td>3389.794398</td>\n",
       "    </tr>\n",
       "    <tr>\n",
       "      <th>House Style_2Story</th>\n",
       "      <td>3292.757705</td>\n",
       "    </tr>\n",
       "    <tr>\n",
       "      <th>MS Zoning_FV</th>\n",
       "      <td>3210.759408</td>\n",
       "    </tr>\n",
       "    <tr>\n",
       "      <th>Exterior 2nd_HdBoard</th>\n",
       "      <td>2913.069736</td>\n",
       "    </tr>\n",
       "    <tr>\n",
       "      <th>Exterior 1st_BrkFace</th>\n",
       "      <td>2721.601786</td>\n",
       "    </tr>\n",
       "    <tr>\n",
       "      <th>Wood Deck SF</th>\n",
       "      <td>2667.576590</td>\n",
       "    </tr>\n",
       "    <tr>\n",
       "      <th>Neighborhood_StoneBr</th>\n",
       "      <td>2651.663888</td>\n",
       "    </tr>\n",
       "    <tr>\n",
       "      <th>Condition 1_Norm</th>\n",
       "      <td>2423.838495</td>\n",
       "    </tr>\n",
       "    <tr>\n",
       "      <th>Fireplaces</th>\n",
       "      <td>2328.552655</td>\n",
       "    </tr>\n",
       "    <tr>\n",
       "      <th>House Style_SLvl</th>\n",
       "      <td>2268.689693</td>\n",
       "    </tr>\n",
       "    <tr>\n",
       "      <th>Foundation_PConc</th>\n",
       "      <td>2218.734194</td>\n",
       "    </tr>\n",
       "    <tr>\n",
       "      <th>Bldg Type_2fmCon</th>\n",
       "      <td>2094.327013</td>\n",
       "    </tr>\n",
       "    <tr>\n",
       "      <th>Condition 1_PosN</th>\n",
       "      <td>2084.194252</td>\n",
       "    </tr>\n",
       "    <tr>\n",
       "      <th>MS Zoning_RH</th>\n",
       "      <td>1929.781799</td>\n",
       "    </tr>\n",
       "    <tr>\n",
       "      <th>House Style_SFoyer</th>\n",
       "      <td>1856.066416</td>\n",
       "    </tr>\n",
       "    <tr>\n",
       "      <th>Sale Type_WD</th>\n",
       "      <td>1821.053519</td>\n",
       "    </tr>\n",
       "    <tr>\n",
       "      <th>Sale Type_Oth</th>\n",
       "      <td>1771.141176</td>\n",
       "    </tr>\n",
       "    <tr>\n",
       "      <th>Year Remod/Add</th>\n",
       "      <td>1692.159679</td>\n",
       "    </tr>\n",
       "    <tr>\n",
       "      <th>Land Contour_Lvl</th>\n",
       "      <td>1682.841128</td>\n",
       "    </tr>\n",
       "    <tr>\n",
       "      <th>Sale Type_Con</th>\n",
       "      <td>1600.366666</td>\n",
       "    </tr>\n",
       "    <tr>\n",
       "      <th>Lot Config_CulDSac</th>\n",
       "      <td>1397.682692</td>\n",
       "    </tr>\n",
       "    <tr>\n",
       "      <th>Half Bath</th>\n",
       "      <td>1298.061535</td>\n",
       "    </tr>\n",
       "    <tr>\n",
       "      <th>Exterior 2nd_Plywood</th>\n",
       "      <td>1287.620303</td>\n",
       "    </tr>\n",
       "    <tr>\n",
       "      <th>Exterior 2nd_CmentBd</th>\n",
       "      <td>1228.714626</td>\n",
       "    </tr>\n",
       "    <tr>\n",
       "      <th>Exterior 2nd_Wd Sdng</th>\n",
       "      <td>1186.839085</td>\n",
       "    </tr>\n",
       "    <tr>\n",
       "      <th>Exterior 1st_CemntBd</th>\n",
       "      <td>1185.601519</td>\n",
       "    </tr>\n",
       "    <tr>\n",
       "      <th>Bsmt Cond_TA</th>\n",
       "      <td>1178.652991</td>\n",
       "    </tr>\n",
       "    <tr>\n",
       "      <th>Condition 1_PosA</th>\n",
       "      <td>1152.024412</td>\n",
       "    </tr>\n",
       "    <tr>\n",
       "      <th>Neighborhood_NoRidge</th>\n",
       "      <td>1150.357053</td>\n",
       "    </tr>\n",
       "    <tr>\n",
       "      <th>House Style_2.5Unf</th>\n",
       "      <td>1144.995140</td>\n",
       "    </tr>\n",
       "    <tr>\n",
       "      <th>Sale Type_ConLD</th>\n",
       "      <td>1114.525757</td>\n",
       "    </tr>\n",
       "    <tr>\n",
       "      <th>Exterior 2nd_Wd Shng</th>\n",
       "      <td>1101.734863</td>\n",
       "    </tr>\n",
       "    <tr>\n",
       "      <th>Exterior 2nd_Brk Cmn</th>\n",
       "      <td>1025.995642</td>\n",
       "    </tr>\n",
       "    <tr>\n",
       "      <th>Open Porch SF</th>\n",
       "      <td>996.970188</td>\n",
       "    </tr>\n",
       "    <tr>\n",
       "      <th>Exterior 2nd_AsphShn</th>\n",
       "      <td>942.998588</td>\n",
       "    </tr>\n",
       "    <tr>\n",
       "      <th>Bldg Type_Duplex</th>\n",
       "      <td>939.997621</td>\n",
       "    </tr>\n",
       "    <tr>\n",
       "      <th>Lot Frontage</th>\n",
       "      <td>884.791659</td>\n",
       "    </tr>\n",
       "    <tr>\n",
       "      <th>Condition 1_Feedr</th>\n",
       "      <td>870.172639</td>\n",
       "    </tr>\n",
       "    <tr>\n",
       "      <th>Foundation_Wood</th>\n",
       "      <td>802.899296</td>\n",
       "    </tr>\n",
       "    <tr>\n",
       "      <th>Foundation_CBlock</th>\n",
       "      <td>785.902527</td>\n",
       "    </tr>\n",
       "    <tr>\n",
       "      <th>Full Bath</th>\n",
       "      <td>777.907742</td>\n",
       "    </tr>\n",
       "    <tr>\n",
       "      <th>Misc Feature_Othr</th>\n",
       "      <td>759.703871</td>\n",
       "    </tr>\n",
       "    <tr>\n",
       "      <th>Neighborhood_NridgHt</th>\n",
       "      <td>670.812244</td>\n",
       "    </tr>\n",
       "    <tr>\n",
       "      <th>Garage Type_BuiltIn</th>\n",
       "      <td>619.967497</td>\n",
       "    </tr>\n",
       "    <tr>\n",
       "      <th>Land Slope_Mod</th>\n",
       "      <td>619.129105</td>\n",
       "    </tr>\n",
       "    <tr>\n",
       "      <th>Land Contour_Low</th>\n",
       "      <td>605.460728</td>\n",
       "    </tr>\n",
       "    <tr>\n",
       "      <th>Exterior 1st_Wd Sdng</th>\n",
       "      <td>585.586784</td>\n",
       "    </tr>\n",
       "    <tr>\n",
       "      <th>Exterior 2nd_BrkFace</th>\n",
       "      <td>583.215891</td>\n",
       "    </tr>\n",
       "    <tr>\n",
       "      <th>Sale Type_ConLw</th>\n",
       "      <td>574.820138</td>\n",
       "    </tr>\n",
       "    <tr>\n",
       "      <th>Exterior 2nd_Stucco</th>\n",
       "      <td>558.708473</td>\n",
       "    </tr>\n",
       "    <tr>\n",
       "      <th>Sale Type_CWD</th>\n",
       "      <td>535.735329</td>\n",
       "    </tr>\n",
       "    <tr>\n",
       "      <th>Condition 1_RRAn</th>\n",
       "      <td>508.501769</td>\n",
       "    </tr>\n",
       "    <tr>\n",
       "      <th>House Style_1.5Unf</th>\n",
       "      <td>498.395229</td>\n",
       "    </tr>\n",
       "    <tr>\n",
       "      <th>House Style_1Story</th>\n",
       "      <td>491.929640</td>\n",
       "    </tr>\n",
       "    <tr>\n",
       "      <th>Misc Feature_Shed</th>\n",
       "      <td>485.692167</td>\n",
       "    </tr>\n",
       "    <tr>\n",
       "      <th>Fence_MnPrv</th>\n",
       "      <td>481.917844</td>\n",
       "    </tr>\n",
       "    <tr>\n",
       "      <th>Exterior 2nd_CBlock</th>\n",
       "      <td>466.722633</td>\n",
       "    </tr>\n",
       "    <tr>\n",
       "      <th>Sale Type_ConLI</th>\n",
       "      <td>453.678790</td>\n",
       "    </tr>\n",
       "    <tr>\n",
       "      <th>Bsmt Cond_Gd</th>\n",
       "      <td>446.167113</td>\n",
       "    </tr>\n",
       "    <tr>\n",
       "      <th>Electrical_FuseP</th>\n",
       "      <td>420.086856</td>\n",
       "    </tr>\n",
       "    <tr>\n",
       "      <th>Enclosed Porch</th>\n",
       "      <td>401.372357</td>\n",
       "    </tr>\n",
       "    <tr>\n",
       "      <th>Garage Cars</th>\n",
       "      <td>345.092080</td>\n",
       "    </tr>\n",
       "    <tr>\n",
       "      <th>Exterior 1st_WdShing</th>\n",
       "      <td>292.170300</td>\n",
       "    </tr>\n",
       "    <tr>\n",
       "      <th>Exterior 1st_Plywood</th>\n",
       "      <td>287.785930</td>\n",
       "    </tr>\n",
       "    <tr>\n",
       "      <th>Electrical_FuseF</th>\n",
       "      <td>281.519086</td>\n",
       "    </tr>\n",
       "    <tr>\n",
       "      <th>Lot Shape_Reg</th>\n",
       "      <td>260.800363</td>\n",
       "    </tr>\n",
       "    <tr>\n",
       "      <th>Land Slope_Sev</th>\n",
       "      <td>249.349534</td>\n",
       "    </tr>\n",
       "    <tr>\n",
       "      <th>Street_Pave</th>\n",
       "      <td>238.897110</td>\n",
       "    </tr>\n",
       "    <tr>\n",
       "      <th>Exterior 1st_Stucco</th>\n",
       "      <td>203.667905</td>\n",
       "    </tr>\n",
       "    <tr>\n",
       "      <th>Lot Shape_IR2</th>\n",
       "      <td>184.288295</td>\n",
       "    </tr>\n",
       "    <tr>\n",
       "      <th>Garage Type_CarPort</th>\n",
       "      <td>172.263478</td>\n",
       "    </tr>\n",
       "    <tr>\n",
       "      <th>BsmtFin Type 1_BLQ</th>\n",
       "      <td>170.684904</td>\n",
       "    </tr>\n",
       "    <tr>\n",
       "      <th>Lot Config_FR3</th>\n",
       "      <td>169.074806</td>\n",
       "    </tr>\n",
       "    <tr>\n",
       "      <th>Exterior 2nd_ImStucc</th>\n",
       "      <td>146.614456</td>\n",
       "    </tr>\n",
       "    <tr>\n",
       "      <th>Foundation_Slab</th>\n",
       "      <td>135.787962</td>\n",
       "    </tr>\n",
       "    <tr>\n",
       "      <th>Neighborhood_Greens</th>\n",
       "      <td>102.190735</td>\n",
       "    </tr>\n",
       "    <tr>\n",
       "      <th>Lot Config_Inside</th>\n",
       "      <td>23.653240</td>\n",
       "    </tr>\n",
       "    <tr>\n",
       "      <th>Exterior 1st_AsphShn</th>\n",
       "      <td>0.000000</td>\n",
       "    </tr>\n",
       "    <tr>\n",
       "      <th>Exterior 2nd_VinylSd</th>\n",
       "      <td>0.000000</td>\n",
       "    </tr>\n",
       "    <tr>\n",
       "      <th>Bsmt Qual_Po</th>\n",
       "      <td>0.000000</td>\n",
       "    </tr>\n",
       "    <tr>\n",
       "      <th>Mo Sold</th>\n",
       "      <td>-12.264340</td>\n",
       "    </tr>\n",
       "    <tr>\n",
       "      <th>MS Zoning_I (all)</th>\n",
       "      <td>-85.656719</td>\n",
       "    </tr>\n",
       "    <tr>\n",
       "      <th>Heating QC_Gd</th>\n",
       "      <td>-92.326519</td>\n",
       "    </tr>\n",
       "    <tr>\n",
       "      <th>TotRms AbvGrd</th>\n",
       "      <td>-126.022505</td>\n",
       "    </tr>\n",
       "    <tr>\n",
       "      <th>3Ssn Porch</th>\n",
       "      <td>-146.987321</td>\n",
       "    </tr>\n",
       "    <tr>\n",
       "      <th>Heating QC_Fa</th>\n",
       "      <td>-177.937048</td>\n",
       "    </tr>\n",
       "    <tr>\n",
       "      <th>Misc Val</th>\n",
       "      <td>-232.274565</td>\n",
       "    </tr>\n",
       "    <tr>\n",
       "      <th>Garage Type_Basment</th>\n",
       "      <td>-244.155835</td>\n",
       "    </tr>\n",
       "    <tr>\n",
       "      <th>Electrical_SBrkr</th>\n",
       "      <td>-271.617905</td>\n",
       "    </tr>\n",
       "    <tr>\n",
       "      <th>Fence_GdWo</th>\n",
       "      <td>-313.513929</td>\n",
       "    </tr>\n",
       "    <tr>\n",
       "      <th>Roof Style_Shed</th>\n",
       "      <td>-329.945856</td>\n",
       "    </tr>\n",
       "    <tr>\n",
       "      <th>Exterior 2nd_MetalSd</th>\n",
       "      <td>-359.899386</td>\n",
       "    </tr>\n",
       "    <tr>\n",
       "      <th>Yr Sold</th>\n",
       "      <td>-360.293364</td>\n",
       "    </tr>\n",
       "    <tr>\n",
       "      <th>Foundation_Stone</th>\n",
       "      <td>-383.587981</td>\n",
       "    </tr>\n",
       "    <tr>\n",
       "      <th>Condition 1_RRNe</th>\n",
       "      <td>-406.118016</td>\n",
       "    </tr>\n",
       "    <tr>\n",
       "      <th>Alley_Pave</th>\n",
       "      <td>-416.659277</td>\n",
       "    </tr>\n",
       "    <tr>\n",
       "      <th>Fence_MnWw</th>\n",
       "      <td>-509.103131</td>\n",
       "    </tr>\n",
       "    <tr>\n",
       "      <th>Roof Style_Hip</th>\n",
       "      <td>-528.052273</td>\n",
       "    </tr>\n",
       "    <tr>\n",
       "      <th>Neighborhood_BrDale</th>\n",
       "      <td>-594.874139</td>\n",
       "    </tr>\n",
       "    <tr>\n",
       "      <th>Roof Style_Gambrel</th>\n",
       "      <td>-639.079736</td>\n",
       "    </tr>\n",
       "    <tr>\n",
       "      <th>BsmtFin Type 1_LwQ</th>\n",
       "      <td>-657.176286</td>\n",
       "    </tr>\n",
       "    <tr>\n",
       "      <th>Condition 1_RRNn</th>\n",
       "      <td>-663.940391</td>\n",
       "    </tr>\n",
       "    <tr>\n",
       "      <th>Lot Config_FR2</th>\n",
       "      <td>-695.193236</td>\n",
       "    </tr>\n",
       "    <tr>\n",
       "      <th>Condition 1_RRAe</th>\n",
       "      <td>-760.294099</td>\n",
       "    </tr>\n",
       "    <tr>\n",
       "      <th>Neighborhood_Blueste</th>\n",
       "      <td>-947.845440</td>\n",
       "    </tr>\n",
       "    <tr>\n",
       "      <th>Neighborhood_NPkVill</th>\n",
       "      <td>-964.685688</td>\n",
       "    </tr>\n",
       "    <tr>\n",
       "      <th>House Style_2.5Fin</th>\n",
       "      <td>-982.674410</td>\n",
       "    </tr>\n",
       "    <tr>\n",
       "      <th>Lot Shape_IR3</th>\n",
       "      <td>-990.950835</td>\n",
       "    </tr>\n",
       "    <tr>\n",
       "      <th>Exter Cond_Po</th>\n",
       "      <td>-1031.591221</td>\n",
       "    </tr>\n",
       "    <tr>\n",
       "      <th>BsmtFin Type 1_Rec</th>\n",
       "      <td>-1039.931918</td>\n",
       "    </tr>\n",
       "    <tr>\n",
       "      <th>Exterior 1st_BrkComm</th>\n",
       "      <td>-1094.532347</td>\n",
       "    </tr>\n",
       "    <tr>\n",
       "      <th>Exter Cond_Fa</th>\n",
       "      <td>-1132.553200</td>\n",
       "    </tr>\n",
       "    <tr>\n",
       "      <th>Heating QC_TA</th>\n",
       "      <td>-1142.963342</td>\n",
       "    </tr>\n",
       "    <tr>\n",
       "      <th>Garage Type_Detchd</th>\n",
       "      <td>-1211.231675</td>\n",
       "    </tr>\n",
       "    <tr>\n",
       "      <th>Central Air_Y</th>\n",
       "      <td>-1246.761000</td>\n",
       "    </tr>\n",
       "    <tr>\n",
       "      <th>Bldg Type_Twnhs</th>\n",
       "      <td>-1718.134901</td>\n",
       "    </tr>\n",
       "    <tr>\n",
       "      <th>Neighborhood_Veenker</th>\n",
       "      <td>-1784.910395</td>\n",
       "    </tr>\n",
       "    <tr>\n",
       "      <th>Roof Style_Gable</th>\n",
       "      <td>-1795.271668</td>\n",
       "    </tr>\n",
       "    <tr>\n",
       "      <th>Bsmt Qual_Fa</th>\n",
       "      <td>-1903.281652</td>\n",
       "    </tr>\n",
       "    <tr>\n",
       "      <th>Roof Style_Mansard</th>\n",
       "      <td>-1906.750783</td>\n",
       "    </tr>\n",
       "    <tr>\n",
       "      <th>Exterior 1st_HdBoard</th>\n",
       "      <td>-2012.001763</td>\n",
       "    </tr>\n",
       "    <tr>\n",
       "      <th>Exter Cond_Gd</th>\n",
       "      <td>-2094.628286</td>\n",
       "    </tr>\n",
       "    <tr>\n",
       "      <th>Garage Type_Attchd</th>\n",
       "      <td>-2133.277851</td>\n",
       "    </tr>\n",
       "    <tr>\n",
       "      <th>Neighborhood_Crawfor</th>\n",
       "      <td>-2151.496764</td>\n",
       "    </tr>\n",
       "    <tr>\n",
       "      <th>Neighborhood_MeadowV</th>\n",
       "      <td>-2282.742197</td>\n",
       "    </tr>\n",
       "    <tr>\n",
       "      <th>Exter Cond_TA</th>\n",
       "      <td>-2467.239237</td>\n",
       "    </tr>\n",
       "    <tr>\n",
       "      <th>Neighborhood_ClearCr</th>\n",
       "      <td>-2514.806941</td>\n",
       "    </tr>\n",
       "    <tr>\n",
       "      <th>Neighborhood_Timber</th>\n",
       "      <td>-2596.425574</td>\n",
       "    </tr>\n",
       "    <tr>\n",
       "      <th>Neighborhood_BrkSide</th>\n",
       "      <td>-2988.112126</td>\n",
       "    </tr>\n",
       "    <tr>\n",
       "      <th>Bldg Type_TwnhsE</th>\n",
       "      <td>-3007.278611</td>\n",
       "    </tr>\n",
       "    <tr>\n",
       "      <th>Neighborhood_SWISU</th>\n",
       "      <td>-3055.129562</td>\n",
       "    </tr>\n",
       "    <tr>\n",
       "      <th>Kitchen Qual_Fa</th>\n",
       "      <td>-3196.327365</td>\n",
       "    </tr>\n",
       "    <tr>\n",
       "      <th>Kitchen AbvGr</th>\n",
       "      <td>-3423.686775</td>\n",
       "    </tr>\n",
       "    <tr>\n",
       "      <th>BsmtFin Type 1_Unf</th>\n",
       "      <td>-3625.320052</td>\n",
       "    </tr>\n",
       "    <tr>\n",
       "      <th>Neighborhood_Somerst</th>\n",
       "      <td>-3684.989076</td>\n",
       "    </tr>\n",
       "    <tr>\n",
       "      <th>Exter Qual_Fa</th>\n",
       "      <td>-4115.702432</td>\n",
       "    </tr>\n",
       "    <tr>\n",
       "      <th>Bedroom AbvGr</th>\n",
       "      <td>-4303.251102</td>\n",
       "    </tr>\n",
       "    <tr>\n",
       "      <th>Neighborhood_IDOTRR</th>\n",
       "      <td>-4531.223195</td>\n",
       "    </tr>\n",
       "    <tr>\n",
       "      <th>Neighborhood_SawyerW</th>\n",
       "      <td>-5085.920151</td>\n",
       "    </tr>\n",
       "    <tr>\n",
       "      <th>Neighborhood_Sawyer</th>\n",
       "      <td>-5393.889638</td>\n",
       "    </tr>\n",
       "    <tr>\n",
       "      <th>Neighborhood_Mitchel</th>\n",
       "      <td>-5557.715818</td>\n",
       "    </tr>\n",
       "    <tr>\n",
       "      <th>MS SubClass</th>\n",
       "      <td>-5605.275040</td>\n",
       "    </tr>\n",
       "    <tr>\n",
       "      <th>Neighborhood_Gilbert</th>\n",
       "      <td>-5982.280758</td>\n",
       "    </tr>\n",
       "    <tr>\n",
       "      <th>Neighborhood_NWAmes</th>\n",
       "      <td>-6244.344878</td>\n",
       "    </tr>\n",
       "    <tr>\n",
       "      <th>Neighborhood_CollgCr</th>\n",
       "      <td>-6319.970364</td>\n",
       "    </tr>\n",
       "    <tr>\n",
       "      <th>Neighborhood_Edwards</th>\n",
       "      <td>-7762.822915</td>\n",
       "    </tr>\n",
       "    <tr>\n",
       "      <th>Neighborhood_OldTown</th>\n",
       "      <td>-8333.097762</td>\n",
       "    </tr>\n",
       "    <tr>\n",
       "      <th>Bsmt Qual_TA</th>\n",
       "      <td>-8736.108815</td>\n",
       "    </tr>\n",
       "    <tr>\n",
       "      <th>Kitchen Qual_Gd</th>\n",
       "      <td>-9458.597604</td>\n",
       "    </tr>\n",
       "    <tr>\n",
       "      <th>Neighborhood_NAmes</th>\n",
       "      <td>-10144.490725</td>\n",
       "    </tr>\n",
       "    <tr>\n",
       "      <th>Bsmt Qual_Gd</th>\n",
       "      <td>-10283.882583</td>\n",
       "    </tr>\n",
       "    <tr>\n",
       "      <th>Kitchen Qual_TA</th>\n",
       "      <td>-10514.818235</td>\n",
       "    </tr>\n",
       "    <tr>\n",
       "      <th>Exter Qual_Gd</th>\n",
       "      <td>-12736.896972</td>\n",
       "    </tr>\n",
       "    <tr>\n",
       "      <th>Exter Qual_TA</th>\n",
       "      <td>-14145.509473</td>\n",
       "    </tr>\n",
       "  </tbody>\n",
       "</table>\n",
       "</div>"
      ],
      "text/plain": [
       "                        coef_value\n",
       "Feature                           \n",
       "Gr Liv Area           24787.594384\n",
       "Total Bsmt SF         13063.494144\n",
       "Year Built            10223.491368\n",
       "Overall Qual           9670.814568\n",
       "Overall Cond           6936.311058\n",
       "Lot Area               6878.549077\n",
       "Garage Area            4838.349595\n",
       "Sale Type_New          4712.115569\n",
       "Land Contour_HLS       3880.909238\n",
       "Exterior 1st_MetalSd   3685.119731\n",
       "BsmtFin Type 1_GLQ     3657.412137\n",
       "MS Zoning_RL           3523.964081\n",
       "Screen Porch           3428.101183\n",
       "MS Zoning_RM           3401.805194\n",
       "Exterior 1st_VinylSd   3389.794398\n",
       "House Style_2Story     3292.757705\n",
       "MS Zoning_FV           3210.759408\n",
       "Exterior 2nd_HdBoard   2913.069736\n",
       "Exterior 1st_BrkFace   2721.601786\n",
       "Wood Deck SF           2667.576590\n",
       "Neighborhood_StoneBr   2651.663888\n",
       "Condition 1_Norm       2423.838495\n",
       "Fireplaces             2328.552655\n",
       "House Style_SLvl       2268.689693\n",
       "Foundation_PConc       2218.734194\n",
       "Bldg Type_2fmCon       2094.327013\n",
       "Condition 1_PosN       2084.194252\n",
       "MS Zoning_RH           1929.781799\n",
       "House Style_SFoyer     1856.066416\n",
       "Sale Type_WD           1821.053519\n",
       "Sale Type_Oth          1771.141176\n",
       "Year Remod/Add         1692.159679\n",
       "Land Contour_Lvl       1682.841128\n",
       "Sale Type_Con          1600.366666\n",
       "Lot Config_CulDSac     1397.682692\n",
       "Half Bath              1298.061535\n",
       "Exterior 2nd_Plywood   1287.620303\n",
       "Exterior 2nd_CmentBd   1228.714626\n",
       "Exterior 2nd_Wd Sdng   1186.839085\n",
       "Exterior 1st_CemntBd   1185.601519\n",
       "Bsmt Cond_TA           1178.652991\n",
       "Condition 1_PosA       1152.024412\n",
       "Neighborhood_NoRidge   1150.357053\n",
       "House Style_2.5Unf     1144.995140\n",
       "Sale Type_ConLD        1114.525757\n",
       "Exterior 2nd_Wd Shng   1101.734863\n",
       "Exterior 2nd_Brk Cmn   1025.995642\n",
       "Open Porch SF           996.970188\n",
       "Exterior 2nd_AsphShn    942.998588\n",
       "Bldg Type_Duplex        939.997621\n",
       "Lot Frontage            884.791659\n",
       "Condition 1_Feedr       870.172639\n",
       "Foundation_Wood         802.899296\n",
       "Foundation_CBlock       785.902527\n",
       "Full Bath               777.907742\n",
       "Misc Feature_Othr       759.703871\n",
       "Neighborhood_NridgHt    670.812244\n",
       "Garage Type_BuiltIn     619.967497\n",
       "Land Slope_Mod          619.129105\n",
       "Land Contour_Low        605.460728\n",
       "Exterior 1st_Wd Sdng    585.586784\n",
       "Exterior 2nd_BrkFace    583.215891\n",
       "Sale Type_ConLw         574.820138\n",
       "Exterior 2nd_Stucco     558.708473\n",
       "Sale Type_CWD           535.735329\n",
       "Condition 1_RRAn        508.501769\n",
       "House Style_1.5Unf      498.395229\n",
       "House Style_1Story      491.929640\n",
       "Misc Feature_Shed       485.692167\n",
       "Fence_MnPrv             481.917844\n",
       "Exterior 2nd_CBlock     466.722633\n",
       "Sale Type_ConLI         453.678790\n",
       "Bsmt Cond_Gd            446.167113\n",
       "Electrical_FuseP        420.086856\n",
       "Enclosed Porch          401.372357\n",
       "Garage Cars             345.092080\n",
       "Exterior 1st_WdShing    292.170300\n",
       "Exterior 1st_Plywood    287.785930\n",
       "Electrical_FuseF        281.519086\n",
       "Lot Shape_Reg           260.800363\n",
       "Land Slope_Sev          249.349534\n",
       "Street_Pave             238.897110\n",
       "Exterior 1st_Stucco     203.667905\n",
       "Lot Shape_IR2           184.288295\n",
       "Garage Type_CarPort     172.263478\n",
       "BsmtFin Type 1_BLQ      170.684904\n",
       "Lot Config_FR3          169.074806\n",
       "Exterior 2nd_ImStucc    146.614456\n",
       "Foundation_Slab         135.787962\n",
       "Neighborhood_Greens     102.190735\n",
       "Lot Config_Inside        23.653240\n",
       "Exterior 1st_AsphShn      0.000000\n",
       "Exterior 2nd_VinylSd      0.000000\n",
       "Bsmt Qual_Po              0.000000\n",
       "Mo Sold                 -12.264340\n",
       "MS Zoning_I (all)       -85.656719\n",
       "Heating QC_Gd           -92.326519\n",
       "TotRms AbvGrd          -126.022505\n",
       "3Ssn Porch             -146.987321\n",
       "Heating QC_Fa          -177.937048\n",
       "Misc Val               -232.274565\n",
       "Garage Type_Basment    -244.155835\n",
       "Electrical_SBrkr       -271.617905\n",
       "Fence_GdWo             -313.513929\n",
       "Roof Style_Shed        -329.945856\n",
       "Exterior 2nd_MetalSd   -359.899386\n",
       "Yr Sold                -360.293364\n",
       "Foundation_Stone       -383.587981\n",
       "Condition 1_RRNe       -406.118016\n",
       "Alley_Pave             -416.659277\n",
       "Fence_MnWw             -509.103131\n",
       "Roof Style_Hip         -528.052273\n",
       "Neighborhood_BrDale    -594.874139\n",
       "Roof Style_Gambrel     -639.079736\n",
       "BsmtFin Type 1_LwQ     -657.176286\n",
       "Condition 1_RRNn       -663.940391\n",
       "Lot Config_FR2         -695.193236\n",
       "Condition 1_RRAe       -760.294099\n",
       "Neighborhood_Blueste   -947.845440\n",
       "Neighborhood_NPkVill   -964.685688\n",
       "House Style_2.5Fin     -982.674410\n",
       "Lot Shape_IR3          -990.950835\n",
       "Exter Cond_Po         -1031.591221\n",
       "BsmtFin Type 1_Rec    -1039.931918\n",
       "Exterior 1st_BrkComm  -1094.532347\n",
       "Exter Cond_Fa         -1132.553200\n",
       "Heating QC_TA         -1142.963342\n",
       "Garage Type_Detchd    -1211.231675\n",
       "Central Air_Y         -1246.761000\n",
       "Bldg Type_Twnhs       -1718.134901\n",
       "Neighborhood_Veenker  -1784.910395\n",
       "Roof Style_Gable      -1795.271668\n",
       "Bsmt Qual_Fa          -1903.281652\n",
       "Roof Style_Mansard    -1906.750783\n",
       "Exterior 1st_HdBoard  -2012.001763\n",
       "Exter Cond_Gd         -2094.628286\n",
       "Garage Type_Attchd    -2133.277851\n",
       "Neighborhood_Crawfor  -2151.496764\n",
       "Neighborhood_MeadowV  -2282.742197\n",
       "Exter Cond_TA         -2467.239237\n",
       "Neighborhood_ClearCr  -2514.806941\n",
       "Neighborhood_Timber   -2596.425574\n",
       "Neighborhood_BrkSide  -2988.112126\n",
       "Bldg Type_TwnhsE      -3007.278611\n",
       "Neighborhood_SWISU    -3055.129562\n",
       "Kitchen Qual_Fa       -3196.327365\n",
       "Kitchen AbvGr         -3423.686775\n",
       "BsmtFin Type 1_Unf    -3625.320052\n",
       "Neighborhood_Somerst  -3684.989076\n",
       "Exter Qual_Fa         -4115.702432\n",
       "Bedroom AbvGr         -4303.251102\n",
       "Neighborhood_IDOTRR   -4531.223195\n",
       "Neighborhood_SawyerW  -5085.920151\n",
       "Neighborhood_Sawyer   -5393.889638\n",
       "Neighborhood_Mitchel  -5557.715818\n",
       "MS SubClass           -5605.275040\n",
       "Neighborhood_Gilbert  -5982.280758\n",
       "Neighborhood_NWAmes   -6244.344878\n",
       "Neighborhood_CollgCr  -6319.970364\n",
       "Neighborhood_Edwards  -7762.822915\n",
       "Neighborhood_OldTown  -8333.097762\n",
       "Bsmt Qual_TA          -8736.108815\n",
       "Kitchen Qual_Gd       -9458.597604\n",
       "Neighborhood_NAmes   -10144.490725\n",
       "Bsmt Qual_Gd         -10283.882583\n",
       "Kitchen Qual_TA      -10514.818235\n",
       "Exter Qual_Gd        -12736.896972\n",
       "Exter Qual_TA        -14145.509473"
      ]
     },
     "execution_count": 465,
     "metadata": {},
     "output_type": "execute_result"
    }
   ],
   "source": [
    "pd.DataFrame({\n",
    "    'Feature': X_lasso.columns,\n",
    "    'coef_value': lasso_cv.coef_\n",
    "}).set_index('Feature').sort_values('coef_value', ascending=False)"
   ]
  },
  {
   "cell_type": "markdown",
   "metadata": {},
   "source": [
    "Interpretation of Lasso Coefficient\n",
    "\n",
    "An increase in one standard deviation of 'Feature', means an increase by ‘coef_value’ of the sale price (holding the rest of the features constant.) Example:\n",
    "An increase in one standard deviation of Ground Living area, means an increase by $24,787.594384 of the sale price (holding the rest of the features constant.)"
   ]
  },
  {
   "cell_type": "markdown",
   "metadata": {},
   "source": [
    "Evaluate Lasso CV Regression Model\n",
    "\n",
    "Check Residuals"
   ]
  },
  {
   "cell_type": "code",
   "execution_count": null,
   "metadata": {},
   "outputs": [],
   "source": [
    "evaluate_model(lasso_cv, XLs_test, yl_test)"
   ]
  },
  {
   "cell_type": "code",
   "execution_count": 468,
   "metadata": {},
   "outputs": [],
   "source": [
    "yl_predictions, yl_residuals = check_residual(lasso_cv, XLs_test, yl_test)"
   ]
  },
  {
   "cell_type": "code",
   "execution_count": 469,
   "metadata": {},
   "outputs": [
    {
     "data": {
      "image/png": "[encoded data removed]",
      "text/plain": [
       "<Figure size 432x288 with 1 Axes>"
      ]
     },
     "metadata": {
      "needs_background": "light"
     },
     "output_type": "display_data"
    }
   ],
   "source": [
    "yl_residuals.hist();"
   ]
  },
  {
   "cell_type": "code",
   "execution_count": 470,
   "metadata": {
    "scrolled": true
   },
   "outputs": [
    {
     "data": {
      "image/png": "[encoded data removed]",
      "text/plain": [
       "<Figure size 432x288 with 1 Axes>"
      ]
     },
     "metadata": {
      "needs_background": "light"
     },
     "output_type": "display_data"
    }
   ],
   "source": [
    "plt.scatter(yl_predictions, yl_residuals);"
   ]
  },
  {
   "cell_type": "markdown",
   "metadata": {},
   "source": [
    "The histogram is more centered at 0 than the previous model. However, the scatter plot does not show equal variance among all the data points. This needs further investigation."
   ]
  },
  {
   "cell_type": "code",
   "execution_count": 471,
   "metadata": {},
   "outputs": [],
   "source": [
    "# Export Lasso X Train transformed data to a CSV file to be used for Kaggle Predictions and Submission\n",
    "XLs_train = pd.DataFrame(XLs_train)\n",
    "XLs_train.columns = list(X_lasso.columns)\n",
    "\n",
    "XLs_train.to_csv('./datasets/XLs_test_transformed.csv', index=False)\n",
    "\n",
    "# Export Lasso y train data to a CSV file\n",
    "yl_train.to_csv('./datasets/yl_train.csv', index=False)"
   ]
  },
  {
   "cell_type": "markdown",
   "metadata": {},
   "source": [
    "### Ridge Regression"
   ]
  },
  {
   "cell_type": "code",
   "execution_count": 472,
   "metadata": {},
   "outputs": [
    {
     "data": {
      "text/plain": [
       "(0.8287394787115441, 0.8306783716128988)"
      ]
     },
     "execution_count": 472,
     "metadata": {},
     "output_type": "execute_result"
    }
   ],
   "source": [
    "ridge = Ridge(alpha=1.0)\n",
    "ridge.fit(Xs_train, y_train)\n",
    "ridge.score(Xs_train, y_train), ridge.score(Xs_test, y_test)"
   ]
  },
  {
   "cell_type": "markdown",
   "metadata": {},
   "source": []
  }
 ],
 "metadata": {
  "kernelspec": {
   "display_name": "Python 3",
   "language": "python",
   "name": "python3"
  },
  "language_info": {
   "codemirror_mode": {
    "name": "ipython",
    "version": 3
   },
   "file_extension": ".py",
   "mimetype": "text/x-python",
   "name": "python",
   "nbconvert_exporter": "python",
   "pygments_lexer": "ipython3",
   "version": "3.8.3"
  }
 },
 "nbformat": 4,
 "nbformat_minor": 4
}
