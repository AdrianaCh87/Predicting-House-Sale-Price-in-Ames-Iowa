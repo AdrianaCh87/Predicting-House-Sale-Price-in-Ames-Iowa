{
 "cells": [
  {
   "cell_type": "markdown",
   "metadata": {},
   "source": [
    "# Predicting the Sale Price of a House in Ames, Iowa"
   ]
  },
  {
   "cell_type": "markdown",
   "metadata": {},
   "source": [
    "### Linear Modes and Model Evaluation"
   ]
  },
  {
   "cell_type": "markdown",
   "metadata": {},
   "source": [
    "Libraries and functions to use:"
   ]
  },
  {
   "cell_type": "code",
   "execution_count": 1,
   "metadata": {},
   "outputs": [],
   "source": [
    "import pandas as pd\n",
    "import numpy as np\n",
    "import matplotlib.pyplot as plt\n",
    "\n",
    "from sklearn.pipeline import Pipeline\n",
    "from sklearn.preprocessing import StandardScaler\n",
    "from sklearn.linear_model import LinearRegression, RidgeCV, Lasso, LassoCV \n",
    "from sklearn.metrics import r2_score, mean_squared_error\n",
    "from sklearn.model_selection import train_test_split, GridSearchCV, cross_val_score"
   ]
  },
  {
   "cell_type": "code",
   "execution_count": 84,
   "metadata": {},
   "outputs": [],
   "source": [
    "# Create a function to calculate the y-predictions and residuals for a given model\n",
    "\n",
    "def check_residual(model, model_name, x_train_data, y_train_data, x_test_data, y_test_data):\n",
    "    \n",
    "    # Check residuals for baseline model\n",
    "    if model== 'Baseline':\n",
    "        y_prediction = x_test_data.mean()\n",
    "        y_predictions = []\n",
    "        for i in range(0,len(y_test_data)):\n",
    "            y_predictions.append(y_prediction)\n",
    "        residuals = y_test_data - y_predictions\n",
    "        \n",
    "    # Calculate residuals and plot them \n",
    "    else:\n",
    "        train_predictions = model.predict(x_train_data)\n",
    "        train_residuals = y_train_data - train_predictions\n",
    "        \n",
    "        test_predictions = model.predict(x_test_data)\n",
    "        test_residuals = y_test_data - test_predictions\n",
    "        \n",
    "        fig, axes = plt.subplots(1,2, figsize=(12,5))\n",
    "        fig.suptitle(model_name + ' Model', fontsize=16)\n",
    "        ax1 = axes[0]\n",
    "        ax2 = axes[1]\n",
    "        \n",
    "        ax1.set_title('Residuals Scatterplot')\n",
    "        ax1.set_xlabel(\"Predicted values\")\n",
    "        ax1.set_ylabel(\"Residuals\")\n",
    "        ax1.scatter(train_predictions, train_residuals, c = 'green', marker = '.', label = 'Training Data')\n",
    "        ax1.scatter(test_predictions, test_residuals, c = 'blue', marker = '.', label = 'Testing Data')\n",
    "        ax1.legend()\n",
    "        ax1.hlines(y=0, xmin=10, xmax=13, color = 'red')\n",
    "        \n",
    "        ax2.set_title(\"Linear regression\")\n",
    "        ax2.set_xlabel(\"Predicted values\")\n",
    "        ax2.set_ylabel(\"Real values\")\n",
    "        ax2.scatter(train_predictions, y_train_data, c = 'green', marker = '.', label = \"Training data\")\n",
    "        ax2.scatter(test_predictions, y_test_data, c = 'blue', marker = '.', label = \"Testing data\")\n",
    "        ax2.legend()\n",
    "        ax2.plot([11, 13], [11, 13], c = \"red\")\n",
    "        \n",
    "        plt.show()\n",
    "    \n",
    "    return "
   ]
  },
  {
   "cell_type": "code",
   "execution_count": 3,
   "metadata": {},
   "outputs": [],
   "source": [
    "# Create a function to calculate R2, MSE, RMSE\n",
    "\n",
    "def evaluate_model(model, X, y):\n",
    "    \n",
    "    # Evalute baseline model\n",
    "    if model == 'baseline':\n",
    "        # Convert y_baseline to an array to calculate baseline metrics\n",
    "        y_baseline = []\n",
    "        for i in range(0,len(y)):\n",
    "            y_baseline.append(X)\n",
    "            \n",
    "        print(f'Baseline: Avg Price = {X}')\n",
    "        print(f'R2 Score: {r2_score(y, y_baseline)}')\n",
    "        print(f'MSE: {mean_squared_error(y, y_baseline)}')\n",
    "        print(f'RMSE: {np.sqrt(mean_squared_error(y, y_baseline))}')\n",
    "        \n",
    "    else:\n",
    "    # Evaluate other models\n",
    "        print(f'R2 Score: {r2_score(y, model.predict(X))}')\n",
    "        print(f'MSE: {mean_squared_error(y, model.predict(X))}')\n",
    "        print(f'RMSE: {np.sqrt(mean_squared_error(y, model.predict(X)))}')"
   ]
  },
  {
   "cell_type": "code",
   "execution_count": 12,
   "metadata": {},
   "outputs": [],
   "source": [
    "# Load the data set for X train, X test, y train, y test in datasets folder\n",
    "path = '../datasets/'\n",
    "df   = pd.read_csv(path + 'new_features_cleaned_train.csv')"
   ]
  },
  {
   "cell_type": "code",
   "execution_count": 27,
   "metadata": {},
   "outputs": [
    {
     "data": {
      "text/html": [
       "<div>\n",
       "<style scoped>\n",
       "    .dataframe tbody tr th:only-of-type {\n",
       "        vertical-align: middle;\n",
       "    }\n",
       "\n",
       "    .dataframe tbody tr th {\n",
       "        vertical-align: top;\n",
       "    }\n",
       "\n",
       "    .dataframe thead th {\n",
       "        text-align: right;\n",
       "    }\n",
       "</style>\n",
       "<table border=\"1\" class=\"dataframe\">\n",
       "  <thead>\n",
       "    <tr style=\"text-align: right;\">\n",
       "      <th></th>\n",
       "      <th>MS SubClass</th>\n",
       "      <th>Lot Frontage</th>\n",
       "      <th>Lot Area</th>\n",
       "      <th>Overall Qual</th>\n",
       "      <th>Overall Cond</th>\n",
       "      <th>Year Built</th>\n",
       "      <th>Year Remod/Add</th>\n",
       "      <th>Total Bsmt SF</th>\n",
       "      <th>Gr Liv Area</th>\n",
       "      <th>Full Bath</th>\n",
       "      <th>...</th>\n",
       "      <th>Misc Feature_none</th>\n",
       "      <th>Sale Type_CWD</th>\n",
       "      <th>Sale Type_Con</th>\n",
       "      <th>Sale Type_ConLD</th>\n",
       "      <th>Sale Type_ConLI</th>\n",
       "      <th>Sale Type_ConLw</th>\n",
       "      <th>Sale Type_New</th>\n",
       "      <th>Sale Type_Oth</th>\n",
       "      <th>Sale Type_WD</th>\n",
       "      <th>SalePrice_log</th>\n",
       "    </tr>\n",
       "  </thead>\n",
       "  <tbody>\n",
       "    <tr>\n",
       "      <th>0</th>\n",
       "      <td>60</td>\n",
       "      <td>0.0</td>\n",
       "      <td>13517</td>\n",
       "      <td>6</td>\n",
       "      <td>8</td>\n",
       "      <td>1976</td>\n",
       "      <td>2005</td>\n",
       "      <td>725.0</td>\n",
       "      <td>1479</td>\n",
       "      <td>2</td>\n",
       "      <td>...</td>\n",
       "      <td>1</td>\n",
       "      <td>0</td>\n",
       "      <td>0</td>\n",
       "      <td>0</td>\n",
       "      <td>0</td>\n",
       "      <td>0</td>\n",
       "      <td>0</td>\n",
       "      <td>0</td>\n",
       "      <td>1</td>\n",
       "      <td>11.779129</td>\n",
       "    </tr>\n",
       "    <tr>\n",
       "      <th>1</th>\n",
       "      <td>60</td>\n",
       "      <td>43.0</td>\n",
       "      <td>11492</td>\n",
       "      <td>7</td>\n",
       "      <td>5</td>\n",
       "      <td>1996</td>\n",
       "      <td>1997</td>\n",
       "      <td>913.0</td>\n",
       "      <td>2122</td>\n",
       "      <td>2</td>\n",
       "      <td>...</td>\n",
       "      <td>1</td>\n",
       "      <td>0</td>\n",
       "      <td>0</td>\n",
       "      <td>0</td>\n",
       "      <td>0</td>\n",
       "      <td>0</td>\n",
       "      <td>0</td>\n",
       "      <td>0</td>\n",
       "      <td>1</td>\n",
       "      <td>12.301383</td>\n",
       "    </tr>\n",
       "    <tr>\n",
       "      <th>2</th>\n",
       "      <td>20</td>\n",
       "      <td>68.0</td>\n",
       "      <td>7922</td>\n",
       "      <td>5</td>\n",
       "      <td>7</td>\n",
       "      <td>1953</td>\n",
       "      <td>2007</td>\n",
       "      <td>1057.0</td>\n",
       "      <td>1057</td>\n",
       "      <td>1</td>\n",
       "      <td>...</td>\n",
       "      <td>1</td>\n",
       "      <td>0</td>\n",
       "      <td>0</td>\n",
       "      <td>0</td>\n",
       "      <td>0</td>\n",
       "      <td>0</td>\n",
       "      <td>0</td>\n",
       "      <td>0</td>\n",
       "      <td>1</td>\n",
       "      <td>11.599103</td>\n",
       "    </tr>\n",
       "    <tr>\n",
       "      <th>3</th>\n",
       "      <td>60</td>\n",
       "      <td>73.0</td>\n",
       "      <td>9802</td>\n",
       "      <td>5</td>\n",
       "      <td>5</td>\n",
       "      <td>2006</td>\n",
       "      <td>2007</td>\n",
       "      <td>384.0</td>\n",
       "      <td>1444</td>\n",
       "      <td>2</td>\n",
       "      <td>...</td>\n",
       "      <td>1</td>\n",
       "      <td>0</td>\n",
       "      <td>0</td>\n",
       "      <td>0</td>\n",
       "      <td>0</td>\n",
       "      <td>0</td>\n",
       "      <td>0</td>\n",
       "      <td>0</td>\n",
       "      <td>1</td>\n",
       "      <td>12.066811</td>\n",
       "    </tr>\n",
       "    <tr>\n",
       "      <th>4</th>\n",
       "      <td>50</td>\n",
       "      <td>82.0</td>\n",
       "      <td>14235</td>\n",
       "      <td>6</td>\n",
       "      <td>8</td>\n",
       "      <td>1900</td>\n",
       "      <td>1993</td>\n",
       "      <td>676.0</td>\n",
       "      <td>1445</td>\n",
       "      <td>2</td>\n",
       "      <td>...</td>\n",
       "      <td>1</td>\n",
       "      <td>0</td>\n",
       "      <td>0</td>\n",
       "      <td>0</td>\n",
       "      <td>0</td>\n",
       "      <td>0</td>\n",
       "      <td>0</td>\n",
       "      <td>0</td>\n",
       "      <td>1</td>\n",
       "      <td>11.838626</td>\n",
       "    </tr>\n",
       "  </tbody>\n",
       "</table>\n",
       "<p>5 rows × 190 columns</p>\n",
       "</div>"
      ],
      "text/plain": [
       "   MS SubClass  Lot Frontage  Lot Area  Overall Qual  Overall Cond  \\\n",
       "0           60           0.0     13517             6             8   \n",
       "1           60          43.0     11492             7             5   \n",
       "2           20          68.0      7922             5             7   \n",
       "3           60          73.0      9802             5             5   \n",
       "4           50          82.0     14235             6             8   \n",
       "\n",
       "   Year Built  Year Remod/Add  Total Bsmt SF  Gr Liv Area  Full Bath  ...  \\\n",
       "0        1976            2005          725.0         1479          2  ...   \n",
       "1        1996            1997          913.0         2122          2  ...   \n",
       "2        1953            2007         1057.0         1057          1  ...   \n",
       "3        2006            2007          384.0         1444          2  ...   \n",
       "4        1900            1993          676.0         1445          2  ...   \n",
       "\n",
       "   Misc Feature_none  Sale Type_CWD  Sale Type_Con  Sale Type_ConLD  \\\n",
       "0                  1              0              0                0   \n",
       "1                  1              0              0                0   \n",
       "2                  1              0              0                0   \n",
       "3                  1              0              0                0   \n",
       "4                  1              0              0                0   \n",
       "\n",
       "   Sale Type_ConLI  Sale Type_ConLw  Sale Type_New  Sale Type_Oth  \\\n",
       "0                0                0              0              0   \n",
       "1                0                0              0              0   \n",
       "2                0                0              0              0   \n",
       "3                0                0              0              0   \n",
       "4                0                0              0              0   \n",
       "\n",
       "   Sale Type_WD   SalePrice_log  \n",
       "0              1      11.779129  \n",
       "1              1      12.301383  \n",
       "2              1      11.599103  \n",
       "3              1      12.066811  \n",
       "4              1      11.838626  \n",
       "\n",
       "[5 rows x 190 columns]"
      ]
     },
     "execution_count": 27,
     "metadata": {},
     "output_type": "execute_result"
    }
   ],
   "source": [
    "df.head()"
   ]
  },
  {
   "cell_type": "code",
   "execution_count": 13,
   "metadata": {},
   "outputs": [],
   "source": [
    "relevant_features = ['Overall Qual','Year Built','Total Bsmt SF','Gr Liv Area','TotRms AbvGrd',\n",
    " 'Garage Cars','Garage Area','Exter Qual_TA','Foundation_PConc','Kitchen Qual_TA']"
   ]
  },
  {
   "cell_type": "code",
   "execution_count": null,
   "metadata": {},
   "outputs": [],
   "source": [
    "# Create feature matrix (X) and target vector (y)\n",
    "X = df[relevant_features]\n",
    "y = df['SalePrice_log']"
   ]
  },
  {
   "cell_type": "code",
   "execution_count": 22,
   "metadata": {},
   "outputs": [],
   "source": [
    "# Perform a split of x and y\n",
    "X_train, X_test, y_train, y_test = train_test_split(X, y, random_state=42)"
   ]
  },
  {
   "cell_type": "code",
   "execution_count": 30,
   "metadata": {},
   "outputs": [],
   "source": [
    "# Scale data\n",
    "ss = StandardScaler()\n",
    "Xs_train = ss.fit_transform(X_train)\n",
    "Xs_test = ss.transform(X_test)"
   ]
  },
  {
   "cell_type": "markdown",
   "metadata": {},
   "source": [
    "### Baseline model and residuals\n",
    "The baseline for a predictive model for this problem is the average of the Sale Price."
   ]
  },
  {
   "cell_type": "code",
   "execution_count": 160,
   "metadata": {
    "scrolled": true
   },
   "outputs": [],
   "source": [
    "avg_sale_price = y_train.mean()"
   ]
  },
  {
   "cell_type": "markdown",
   "metadata": {},
   "source": [
    "Evaluate Baseline Model - Check Residuals"
   ]
  },
  {
   "cell_type": "code",
   "execution_count": 162,
   "metadata": {},
   "outputs": [
    {
     "name": "stdout",
     "output_type": "stream",
     "text": [
      "Baseline: Avg Price = 12.027370015222996\n",
      "R2 Score: -0.0013615952114667262\n",
      "MSE: 0.17042871404224227\n",
      "RMSE: 0.4128301273432479\n"
     ]
    }
   ],
   "source": [
    "evaluate_model('baseline', avg_sale_price, y_test)"
   ]
  },
  {
   "cell_type": "markdown",
   "metadata": {},
   "source": [
    "### Linear Regression Model and Residuals"
   ]
  },
  {
   "cell_type": "code",
   "execution_count": 31,
   "metadata": {
    "scrolled": true
   },
   "outputs": [
    {
     "data": {
      "text/plain": [
       "LinearRegression()"
      ]
     },
     "execution_count": 31,
     "metadata": {},
     "output_type": "execute_result"
    }
   ],
   "source": [
    "# Linear Regression model\n",
    "lr = LinearRegression()\n",
    "lr.fit(Xs_train,y_train)"
   ]
  },
  {
   "cell_type": "code",
   "execution_count": 32,
   "metadata": {},
   "outputs": [
    {
     "data": {
      "text/plain": [
       "(0.8387119533981721, 0.8622225589051753)"
      ]
     },
     "execution_count": 32,
     "metadata": {},
     "output_type": "execute_result"
    }
   ],
   "source": [
    "# Model Evaluation\n",
    "lr.score(Xs_train, y_train), lr.score(Xs_test, y_test)"
   ]
  },
  {
   "cell_type": "code",
   "execution_count": 33,
   "metadata": {},
   "outputs": [
    {
     "data": {
      "text/plain": [
       "0.8357858023777982"
      ]
     },
     "execution_count": 33,
     "metadata": {},
     "output_type": "execute_result"
    }
   ],
   "source": [
    "# Cross Validation\n",
    "cross_val_score(lr, Xs_train, y_train).mean()"
   ]
  },
  {
   "cell_type": "markdown",
   "metadata": {},
   "source": [
    "Check Residuals"
   ]
  },
  {
   "cell_type": "code",
   "execution_count": 34,
   "metadata": {},
   "outputs": [
    {
     "name": "stdout",
     "output_type": "stream",
     "text": [
      "R2 Score: 0.8622225589051753\n",
      "MSE: 0.02344930365025934\n",
      "RMSE: 0.15313165463175582\n"
     ]
    }
   ],
   "source": [
    "evaluate_model(lr, Xs_test, y_test)"
   ]
  },
  {
   "cell_type": "code",
   "execution_count": null,
   "metadata": {},
   "outputs": [],
   "source": [
    "check_residual(lr, 'Linear Regression', Xs_train, y_train, Xs_test, y_test)"
   ]
  },
  {
   "cell_type": "markdown",
   "metadata": {},
   "source": [
    "The histogram and scatterplot for the Simple Regression Model shows that the model is missing predicting well the outliers"
   ]
  },
  {
   "cell_type": "markdown",
   "metadata": {},
   "source": [
    "The coefficients on the linear regression"
   ]
  },
  {
   "cell_type": "code",
   "execution_count": 85,
   "metadata": {
    "scrolled": true
   },
   "outputs": [
    {
     "data": {
      "text/html": [
       "<div>\n",
       "<style scoped>\n",
       "    .dataframe tbody tr th:only-of-type {\n",
       "        vertical-align: middle;\n",
       "    }\n",
       "\n",
       "    .dataframe tbody tr th {\n",
       "        vertical-align: top;\n",
       "    }\n",
       "\n",
       "    .dataframe thead th {\n",
       "        text-align: right;\n",
       "    }\n",
       "</style>\n",
       "<table border=\"1\" class=\"dataframe\">\n",
       "  <thead>\n",
       "    <tr style=\"text-align: right;\">\n",
       "      <th></th>\n",
       "      <th>coef val</th>\n",
       "    </tr>\n",
       "    <tr>\n",
       "      <th>Feature</th>\n",
       "      <th></th>\n",
       "    </tr>\n",
       "  </thead>\n",
       "  <tbody>\n",
       "    <tr>\n",
       "      <th>Kitchen Qual_TA</th>\n",
       "      <td>-0.022718</td>\n",
       "    </tr>\n",
       "    <tr>\n",
       "      <th>TotRms AbvGrd</th>\n",
       "      <td>-0.013075</td>\n",
       "    </tr>\n",
       "    <tr>\n",
       "      <th>Foundation_PConc</th>\n",
       "      <td>0.005607</td>\n",
       "    </tr>\n",
       "    <tr>\n",
       "      <th>Garage Cars</th>\n",
       "      <td>0.013519</td>\n",
       "    </tr>\n",
       "    <tr>\n",
       "      <th>Exter Qual_TA</th>\n",
       "      <td>0.020352</td>\n",
       "    </tr>\n",
       "    <tr>\n",
       "      <th>Garage Area</th>\n",
       "      <td>0.031595</td>\n",
       "    </tr>\n",
       "    <tr>\n",
       "      <th>Year Built</th>\n",
       "      <td>0.070426</td>\n",
       "    </tr>\n",
       "    <tr>\n",
       "      <th>Total Bsmt SF</th>\n",
       "      <td>0.081176</td>\n",
       "    </tr>\n",
       "    <tr>\n",
       "      <th>Gr Liv Area</th>\n",
       "      <td>0.142808</td>\n",
       "    </tr>\n",
       "    <tr>\n",
       "      <th>Overall Qual</th>\n",
       "      <td>0.144392</td>\n",
       "    </tr>\n",
       "  </tbody>\n",
       "</table>\n",
       "</div>"
      ],
      "text/plain": [
       "                  coef val\n",
       "Feature                   \n",
       "Kitchen Qual_TA  -0.022718\n",
       "TotRms AbvGrd    -0.013075\n",
       "Foundation_PConc  0.005607\n",
       "Garage Cars       0.013519\n",
       "Exter Qual_TA     0.020352\n",
       "Garage Area       0.031595\n",
       "Year Built        0.070426\n",
       "Total Bsmt SF     0.081176\n",
       "Gr Liv Area       0.142808\n",
       "Overall Qual      0.144392"
      ]
     },
     "execution_count": 85,
     "metadata": {},
     "output_type": "execute_result"
    }
   ],
   "source": [
    "linear_coefficients = pd.DataFrame({\n",
    "    'Feature' : X_train.columns,\n",
    "    'coef val': lr.coef_    \n",
    "}).set_index('Feature').sort_values('coef val')\n",
    "\n",
    "linear_coefficients_summary = pd.concat([linear_coefficients.head(10),\n",
    "                     linear_coefficients.tail(10)])\n",
    "linear_coefficients_summary.plot(kind = \"barh\")\n",
    "plt.title(\"Coefficients in the Simple Linear Regression Model\")\n",
    "plt.show()"
   ]
  },
  {
   "cell_type": "markdown",
   "metadata": {},
   "source": [
    "Interpreting the coefficients : \n",
    "\n",
    "Holding all other features constant, for every 1 unit increase in 'Feature', we expect Sale Price to increase by 'coef val'. Example: Holding all other features constant, for every square feet increase in Ground Living area, we expect Sale Price to increase by $30,808.\n",
    "\n",
    "These coefficients are very large. Will do other regressions models to apply regularization and shrink these coefficients.\n",
    "\n",
    "\n",
    "\n",
    "\n",
    "\n"
   ]
  },
  {
   "cell_type": "markdown",
   "metadata": {},
   "source": [
    "### Ridge Regression"
   ]
  },
  {
   "cell_type": "code",
   "execution_count": null,
   "metadata": {},
   "outputs": [],
   "source": [
    "X = df.drop(columns = ['SalePrice_log', 'SalePrice'])\n",
    "y = df['SalePrice_log']"
   ]
  },
  {
   "cell_type": "code",
   "execution_count": 86,
   "metadata": {},
   "outputs": [
    {
     "data": {
      "text/plain": [
       "RidgeCV(alphas=array([1.00000000e+00, 1.12332403e+00, 1.26185688e+00, 1.41747416e+00,\n",
       "       1.59228279e+00, 1.78864953e+00, 2.00923300e+00, 2.25701972e+00,\n",
       "       2.53536449e+00, 2.84803587e+00, 3.19926714e+00, 3.59381366e+00,\n",
       "       4.03701726e+00, 4.53487851e+00, 5.09413801e+00, 5.72236766e+00,\n",
       "       6.42807312e+00, 7.22080902e+00, 8.11130831e+00, 9.11162756e+00,\n",
       "       1.02353102e+01, 1.14975700e+0...\n",
       "       6.89261210e+03, 7.74263683e+03, 8.69749003e+03, 9.77009957e+03,\n",
       "       1.09749877e+04, 1.23284674e+04, 1.38488637e+04, 1.55567614e+04,\n",
       "       1.74752840e+04, 1.96304065e+04, 2.20513074e+04, 2.47707636e+04,\n",
       "       2.78255940e+04, 3.12571585e+04, 3.51119173e+04, 3.94420606e+04,\n",
       "       4.43062146e+04, 4.97702356e+04, 5.59081018e+04, 6.28029144e+04,\n",
       "       7.05480231e+04, 7.92482898e+04, 8.90215085e+04, 1.00000000e+05]),\n",
       "        cv=5, scoring='r2')"
      ]
     },
     "execution_count": 86,
     "metadata": {},
     "output_type": "execute_result"
    }
   ],
   "source": [
    "r_alphas = np.logspace(0, 5, 100)\n",
    "\n",
    "ridge_cv = RidgeCV(alphas=r_alphas, scoring='r2', cv=5)\n",
    "\n",
    "ridge_cv.fit(Xs_train, y_train)"
   ]
  },
  {
   "cell_type": "code",
   "execution_count": 87,
   "metadata": {
    "scrolled": true
   },
   "outputs": [
    {
     "data": {
      "text/plain": [
       "12.91549665014884"
      ]
     },
     "execution_count": 87,
     "metadata": {},
     "output_type": "execute_result"
    }
   ],
   "source": [
    "ridge_cv.alpha_"
   ]
  },
  {
   "cell_type": "code",
   "execution_count": 88,
   "metadata": {},
   "outputs": [
    {
     "name": "stdout",
     "output_type": "stream",
     "text": [
      "0.8386645351867501\n",
      "0.8622186500958315\n"
     ]
    }
   ],
   "source": [
    "print(ridge_cv.score(Xs_train, y_train))\n",
    "print(ridge_cv.score(Xs_test, y_test))"
   ]
  },
  {
   "cell_type": "code",
   "execution_count": 89,
   "metadata": {},
   "outputs": [
    {
     "name": "stdout",
     "output_type": "stream",
     "text": [
      "R2 Score: 0.8622186500958315\n",
      "MSE: 0.023449968917784163\n",
      "RMSE: 0.15313382682406967\n"
     ]
    }
   ],
   "source": [
    "evaluate_model(ridge_cv, Xs_test, y_test)"
   ]
  },
  {
   "cell_type": "code",
   "execution_count": 92,
   "metadata": {},
   "outputs": [
    {
     "data": {
      "image/png": "[encoded data removed]",
      "text/plain": [
       "<Figure size 864x360 with 2 Axes>"
      ]
     },
     "metadata": {
      "needs_background": "light"
     },
     "output_type": "display_data"
    }
   ],
   "source": [
    "check_residual(ridge_cv, 'Ridge Regression', Xs_train, y_train, Xs_test, y_test)"
   ]
  },
  {
   "cell_type": "code",
   "execution_count": null,
   "metadata": {},
   "outputs": [],
   "source": [
    "ridge_coefficients = pd.DataFrame({\n",
    "                        'Feature': X.columns,\n",
    "                        'coef_value': ridge_cv.coef_\n",
    "                    }).set_index('Feature').sort_values('coef_value', ascending=False)\n",
    "\n",
    "ridge_coefficients_summary = pd.concat([ridge_coefficients.head(10),\n",
    "                     ridge_coefficients.tail(10)])\n",
    "ridge_coefficients_summary.plot(kind = \"barh\")\n",
    "plt.title(\"Coefficients in the Ridge Model\")\n",
    "plt.show()"
   ]
  },
  {
   "cell_type": "markdown",
   "metadata": {},
   "source": [
    "### Lasso Regression "
   ]
  },
  {
   "cell_type": "code",
   "execution_count": 98,
   "metadata": {},
   "outputs": [],
   "source": [
    "X = df.drop(columns = ['SalePrice_log', 'SalePrice'])\n",
    "y = df['SalePrice_log']"
   ]
  },
  {
   "cell_type": "code",
   "execution_count": 99,
   "metadata": {},
   "outputs": [],
   "source": [
    "X_train, X_test, y_train, y_test = train_test_split(X, y, random_state=42)"
   ]
  },
  {
   "cell_type": "code",
   "execution_count": 100,
   "metadata": {},
   "outputs": [],
   "source": [
    "l_alphas = np.logspace(-3, 0, 100)\n",
    "\n",
    "lasso_cv = LassoCV(alphas=l_alphas, cv=5, max_iter=50000)\n",
    "\n",
    "lasso_cv.fit(X_train, y_train);"
   ]
  },
  {
   "cell_type": "code",
   "execution_count": 101,
   "metadata": {},
   "outputs": [
    {
     "data": {
      "text/plain": [
       "0.0010722672220103231"
      ]
     },
     "execution_count": 101,
     "metadata": {},
     "output_type": "execute_result"
    }
   ],
   "source": [
    "lasso_cv.alpha_"
   ]
  },
  {
   "cell_type": "code",
   "execution_count": 102,
   "metadata": {},
   "outputs": [
    {
     "name": "stdout",
     "output_type": "stream",
     "text": [
      "0.9061215538533127\n",
      "0.9092529565381058\n"
     ]
    }
   ],
   "source": [
    "print(lasso_cv.score(X_train, y_train))\n",
    "print(lasso_cv.score(X_test, y_test))"
   ]
  },
  {
   "cell_type": "code",
   "execution_count": 104,
   "metadata": {},
   "outputs": [
    {
     "name": "stdout",
     "output_type": "stream",
     "text": [
      "R2 Score: 0.9092529565381058\n",
      "MSE: 0.015444872256240295\n",
      "RMSE: 0.1242774004243744\n"
     ]
    }
   ],
   "source": [
    "evaluate_model(lasso_cv, X_test, y_test)"
   ]
  },
  {
   "cell_type": "code",
   "execution_count": 106,
   "metadata": {},
   "outputs": [
    {
     "data": {
      "image/png": "[encoded data removed]",
      "text/plain": [
       "<Figure size 864x360 with 2 Axes>"
      ]
     },
     "metadata": {
      "needs_background": "light"
     },
     "output_type": "display_data"
    }
   ],
   "source": [
    "check_residual(lasso_cv, 'Lasso Regression', X_train, y_train, X_test, y_test)"
   ]
  },
  {
   "cell_type": "code",
   "execution_count": 109,
   "metadata": {},
   "outputs": [
    {
     "data": {
      "image/png": "[encoded data removed]",
      "text/plain": [
       "<Figure size 432x288 with 1 Axes>"
      ]
     },
     "metadata": {
      "needs_background": "light"
     },
     "output_type": "display_data"
    }
   ],
   "source": [
    "lasso_coefficients = pd.DataFrame({\n",
    "                        'Feature': X.columns,\n",
    "                        'coef_value': lasso_cv.coef_\n",
    "                    }).set_index('Feature').sort_values('coef_value', ascending=False)\n",
    "\n",
    "lasso_coefficients_summary = pd.concat([lasso_coefficients.head(10),\n",
    "                     lasso_coefficients.tail(10)])\n",
    "lasso_coefficients_summary.plot(kind = \"barh\")\n",
    "plt.title(\"Coefficients in the Lasso Model\")\n",
    "plt.show()"
   ]
  },
  {
   "cell_type": "markdown",
   "metadata": {},
   "source": [
    "Interpretation of Lasso Coefficient\n",
    "\n",
    "An increase in one standard deviation of 'Feature', means an increase by ‘coef_value’ of the sale price (holding the rest of the features constant.) Example:\n",
    "An increase in one standard deviation of Ground Living area, means an increase by $24,787.594384 of the sale price (holding the rest of the features constant.)"
   ]
  },
  {
   "cell_type": "code",
   "execution_count": null,
   "metadata": {},
   "outputs": [],
   "source": []
  }
 ],
 "metadata": {
  "kernelspec": {
   "display_name": "Python 3",
   "language": "python",
   "name": "python3"
  },
  "language_info": {
   "codemirror_mode": {
    "name": "ipython",
    "version": 3
   },
   "file_extension": ".py",
   "mimetype": "text/x-python",
   "name": "python",
   "nbconvert_exporter": "python",
   "pygments_lexer": "ipython3",
   "version": "3.8.3"
  }
 },
 "nbformat": 4,
 "nbformat_minor": 4
}
