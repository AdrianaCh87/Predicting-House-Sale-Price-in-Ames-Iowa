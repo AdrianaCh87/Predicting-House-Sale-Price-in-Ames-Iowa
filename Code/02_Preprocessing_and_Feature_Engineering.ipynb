{
 "cells": [
  {
   "cell_type": "markdown",
   "metadata": {},
   "source": [
    "# Preprocessing and Feature Engineering"
   ]
  },
  {
   "cell_type": "code",
   "execution_count": 54,
   "metadata": {},
   "outputs": [],
   "source": [
    "import pandas as pd\n",
    "import numpy as np\n",
    "import matplotlib.pyplot as plt\n",
    "import statsmodels.api as sm\n",
    "\n",
    "from sklearn.model_selection import train_test_split, cross_val_score\n",
    "from sklearn.preprocessing import PolynomialFeatures, StandardScaler\n",
    "from sklearn.linear_model import Lasso, LassoCV, LinearRegression, Ridge, RidgeCV\n",
    "\n",
    "pd.options.display.max_columns = 100\n",
    "pd.options.display.max_rows = 200"
   ]
  },
  {
   "cell_type": "code",
   "execution_count": 111,
   "metadata": {},
   "outputs": [],
   "source": [
    "# Load cleaned data from cleaned_train.csv in datasets folder\n",
    "df = pd.read_csv('./datasets/cleaned_train.csv')"
   ]
  },
  {
   "cell_type": "markdown",
   "metadata": {},
   "source": [
    "### Feature Engineering\n",
    "Create a new feature 'House Age' to represent how old the house was when it was sold."
   ]
  },
  {
   "cell_type": "code",
   "execution_count": 112,
   "metadata": {},
   "outputs": [],
   "source": [
    "df['House Age'] = df['Yr Sold'] - df['Year Remod/Add']"
   ]
  },
  {
   "cell_type": "code",
   "execution_count": 113,
   "metadata": {
    "scrolled": true
   },
   "outputs": [
    {
     "data": {
      "image/png": "[encoded data removed]",
      "text/plain": [
       "<Figure size 432x288 with 1 Axes>"
      ]
     },
     "metadata": {
      "needs_background": "light"
     },
     "output_type": "display_data"
    }
   ],
   "source": [
    "date4 = df.groupby('House Age')['SalePrice'].mean()\n",
    "date4.sort_index().plot.line();"
   ]
  },
  {
   "cell_type": "code",
   "execution_count": 114,
   "metadata": {
    "scrolled": true
   },
   "outputs": [],
   "source": [
    "df['House Age'] = df['House Age'].map(lambda age: age if age>0 else 0)"
   ]
  },
  {
   "cell_type": "markdown",
   "metadata": {},
   "source": [
    "Create dummy features for the categorical data"
   ]
  },
  {
   "cell_type": "code",
   "execution_count": 115,
   "metadata": {},
   "outputs": [],
   "source": [
    "features_to_change = list(df.select_dtypes([np.object]).columns)"
   ]
  },
  {
   "cell_type": "code",
   "execution_count": 116,
   "metadata": {},
   "outputs": [],
   "source": [
    "df = pd.get_dummies(df, columns=features_to_change, drop_first=True)"
   ]
  },
  {
   "cell_type": "code",
   "execution_count": 117,
   "metadata": {},
   "outputs": [],
   "source": [
    "# Export dataset with new features to a CSV file\n",
    "df.to_csv('./datasets/new_features_cleaned_train.csv', index=False)"
   ]
  },
  {
   "cell_type": "markdown",
   "metadata": {},
   "source": [
    "### Feature Selection\n",
    "Use correlation to find the features most correlated with the target value"
   ]
  },
  {
   "cell_type": "code",
   "execution_count": 153,
   "metadata": {},
   "outputs": [
    {
     "data": {
      "text/plain": [
       "Overall Qual        0.805282\n",
       "Year Built          0.583765\n",
       "Year Remod/Add      0.552466\n",
       "Total Bsmt SF       0.668989\n",
       "Gr Liv Area         0.717217\n",
       "Full Bath           0.536389\n",
       "TotRms AbvGrd       0.506015\n",
       "Garage Cars         0.649211\n",
       "Garage Area         0.654190\n",
       "SalePrice           1.000000\n",
       "House Age           0.553579\n",
       "Exter Qual_TA       0.604169\n",
       "Foundation_PConc    0.537544\n",
       "Kitchen Qual_TA     0.540977\n",
       "Name: SalePrice, dtype: float64"
      ]
     },
     "execution_count": 153,
     "metadata": {},
     "output_type": "execute_result"
    }
   ],
   "source": [
    "cor = df.corr()\n",
    "#Correlation with target variable\n",
    "cor_target = abs(cor['SalePrice'])\n",
    "\n",
    "#Select features with correlation strength of 0.5 or above\n",
    "relevant_features = cor_target[cor_target>0.5]\n",
    "relevant_features"
   ]
  },
  {
   "cell_type": "code",
   "execution_count": 154,
   "metadata": {
    "scrolled": true
   },
   "outputs": [],
   "source": [
    "relevant_features = list(relevant_features.index)"
   ]
  },
  {
   "cell_type": "code",
   "execution_count": 155,
   "metadata": {},
   "outputs": [],
   "source": [
    "relevant_features.remove('SalePrice')\n",
    "relevant_features.remove('Year Remod/Add')\n",
    "relevant_features.remove('House Age')"
   ]
  },
  {
   "cell_type": "code",
   "execution_count": 156,
   "metadata": {},
   "outputs": [
    {
     "data": {
      "text/plain": [
       "['Overall Qual',\n",
       " 'Year Built',\n",
       " 'Total Bsmt SF',\n",
       " 'Gr Liv Area',\n",
       " 'Full Bath',\n",
       " 'TotRms AbvGrd',\n",
       " 'Garage Cars',\n",
       " 'Garage Area',\n",
       " 'Exter Qual_TA',\n",
       " 'Foundation_PConc',\n",
       " 'Kitchen Qual_TA']"
      ]
     },
     "execution_count": 156,
     "metadata": {},
     "output_type": "execute_result"
    }
   ],
   "source": [
    "relevant_features"
   ]
  },
  {
   "cell_type": "code",
   "execution_count": 157,
   "metadata": {},
   "outputs": [],
   "source": [
    "# Create feature matrix (X) and target vector (y)\n",
    "X = df[relevant_features]\n",
    "y = df ['SalePrice']"
   ]
  },
  {
   "cell_type": "code",
   "execution_count": 158,
   "metadata": {},
   "outputs": [],
   "source": [
    "# Perform a split of x and y\n",
    "X_train, X_test, y_train, y_test = train_test_split(X, y, random_state=42)"
   ]
  },
  {
   "cell_type": "code",
   "execution_count": 159,
   "metadata": {},
   "outputs": [],
   "source": [
    "# Scale data\n",
    "ss = StandardScaler()\n",
    "Xs_train = ss.fit_transform(X_train)\n",
    "Xs_test = ss.transform(X_test)"
   ]
  },
  {
   "cell_type": "code",
   "execution_count": 160,
   "metadata": {},
   "outputs": [],
   "source": [
    "# Export transformed X Train data to a CSV file\n",
    "Xs_train = pd.DataFrame(Xs_train)\n",
    "Xs_train.columns = X.columns\n",
    "Xs_train.to_csv('./datasets/X_train_transformed.csv', index=False)\n",
    "\n",
    "# Export transformed X Test data to a CSV file\n",
    "Xs_test = pd.DataFrame(Xs_test)\n",
    "Xs_test.to_csv('./datasets/X_test_transformed.csv', index=False)\n",
    "\n",
    "# Export y train data to a CSV file\n",
    "y_train.to_csv('./datasets/y_train.csv', index=False)\n",
    "\n",
    "# Export y Test data to a CSV file\n",
    "y_test.to_csv('./datasets/y_test.csv', index=False)"
   ]
  },
  {
   "cell_type": "code",
   "execution_count": null,
   "metadata": {},
   "outputs": [],
   "source": []
  }
 ],
 "metadata": {
  "kernelspec": {
   "display_name": "Python 3",
   "language": "python",
   "name": "python3"
  },
  "language_info": {
   "codemirror_mode": {
    "name": "ipython",
    "version": 3
   },
   "file_extension": ".py",
   "mimetype": "text/x-python",
   "name": "python",
   "nbconvert_exporter": "python",
   "pygments_lexer": "ipython3",
   "version": "3.8.3"
  }
 },
 "nbformat": 4,
 "nbformat_minor": 4
}
